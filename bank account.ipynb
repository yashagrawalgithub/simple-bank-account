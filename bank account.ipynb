{
 "cells": [
  {
   "cell_type": "code",
   "execution_count": 1,
   "metadata": {},
   "outputs": [
    {
     "name": "stdout",
     "output_type": "stream",
     "text": [
      "Enter The ID: 1000\n",
      "Write 1 for withdraw & 2 for deposit & 3 for transfer: 2\n",
      "Enter The Amount: 250\n",
      "Before Deposit:  5000\n",
      "Current Balance:  5250\n"
     ]
    }
   ],
   "source": [
    "import ast\n",
    "file=open('bank.txt','r')\n",
    "d=ast.literal_eval(file.read())\n",
    "class bank:\n",
    "    def __init__(self,i,o,r):\n",
    "        self.i=i\n",
    "        self.o=o\n",
    "        self.r=r\n",
    "        for k in d.keys():\n",
    "            if(i==k and o==1):\n",
    "                self.withdraw(i,r)\n",
    "            if(i==k and o==2):\n",
    "                self.deposit(i,r)\n",
    "            if(i==k and o==3):\n",
    "                self.transfer(i,r)\n",
    "    def withdraw(self,i,r):\n",
    "        print('Before Withdraw: ',d[i])\n",
    "        if(r>d[i]):\n",
    "            print(\"Insufficient Balance!\")\n",
    "        else:\n",
    "            d[i]=d[i]-r\n",
    "        self.balance(i)\n",
    "    def deposit(self,i,r):\n",
    "        print('Before Deposit: ',d[i])\n",
    "        d[i]=d[i]+r\n",
    "        self.balance(i)\n",
    "    def transfer(self,i,r):\n",
    "        j=int(input('ID of Receiver: '))\n",
    "        if(r>d[i]):\n",
    "            print(\"Insufficient Balance!\")\n",
    "        else:\n",
    "            d[j]=d[j]+r\n",
    "            d[i]=d[i]-r\n",
    "        self.balance(i)\n",
    "    def balance(self,i):\n",
    "        print('Current Balance: ',d[i])\n",
    "        file=open('bank.txt','w').write(str(d))\n",
    "i=int(input('Enter The ID: '))\n",
    "o=int(input('Write 1 for withdraw & 2 for deposit & 3 for transfer: '))\n",
    "r=int(input('Enter The Amount: '))\n",
    "b=bank(i,o,r)\n",
    "file.close()"
   ]
  },
  {
   "cell_type": "code",
   "execution_count": 2,
   "metadata": {},
   "outputs": [
    {
     "name": "stdout",
     "output_type": "stream",
     "text": [
      "{1000: 5250, 2000: 5000, 3000: 5000, 4000: 5000, 5000: 5000}\n"
     ]
    }
   ],
   "source": [
    "import ast\n",
    "file = open(\"bank.txt\", \"r\")\n",
    "contents = file. read()\n",
    "dictionary = ast.literal_eval(contents)\n",
    "file. close()\n",
    "print(dictionary)"
   ]
  },
  {
   "cell_type": "code",
   "execution_count": null,
   "metadata": {},
   "outputs": [],
   "source": []
  }
 ],
 "metadata": {
  "kernelspec": {
   "display_name": "Python 3",
   "language": "python",
   "name": "python3"
  },
  "language_info": {
   "codemirror_mode": {
    "name": "ipython",
    "version": 3
   },
   "file_extension": ".py",
   "mimetype": "text/x-python",
   "name": "python",
   "nbconvert_exporter": "python",
   "pygments_lexer": "ipython3",
   "version": "3.7.6"
  }
 },
 "nbformat": 4,
 "nbformat_minor": 4
}
